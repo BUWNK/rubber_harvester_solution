{
 "cells": [
  {
   "cell_type": "code",
   "execution_count": 1,
   "source": [
    "import time\n",
    "import pickle\n",
    "import pandas as pd\n",
    "import autosklearn.regression\n",
    "from sklearn.metrics import mean_squared_error\n",
    "pd.pandas.set_option('display.max_columns',None)\n",
    "from sklearn.model_selection import train_test_split"
   ],
   "outputs": [],
   "metadata": {}
  },
  {
   "cell_type": "code",
   "execution_count": 2,
   "source": [
    "df = pd.read_csv(\"Number of latex.csv\")\n",
    "df = df[['Humidity', 'Wind', 'Tempature', 'Total(latex)(dry Milk)']]\n",
    "df = df.dropna()\n",
    "\n",
    "y = df['Total(latex)(dry Milk)']\n",
    "\n",
    "# Select the features (all columns except the target variable)\n",
    "X = df.drop('Total(latex)(dry Milk)', axis=1)\n",
    " "
   ],
   "outputs": [],
   "metadata": {}
  },
  {
   "cell_type": "code",
   "execution_count": 3,
   "source": [
    "# Split the data into training and testing sets (e.g., 80% training, 20% testing)\n",
    "X_train, X_test, y_train, y_test = train_test_split(X, y, test_size=0.2, random_state=42)"
   ],
   "outputs": [],
   "metadata": {}
  },
  {
   "cell_type": "code",
   "execution_count": 4,
   "source": [
    "print(X_train.shape)\n",
    "print(y_train.shape)"
   ],
   "outputs": [
    {
     "output_type": "stream",
     "name": "stdout",
     "text": [
      "(87, 3)\n",
      "(87,)\n"
     ]
    }
   ],
   "metadata": {}
  },
  {
   "cell_type": "code",
   "execution_count": 5,
   "source": [
    "start_time = time.time()\n",
    "\n",
    "automl = autosklearn.regression.AutoSklearnRegressor(\n",
    "    time_left_for_this_task=60,\n",
    "    per_run_time_limit=30,\n",
    "    tmp_folder=\"/tmp/autosklearn_regression\",\n",
    "    n_jobs = 5,\n",
    "    memory_limit = 2500\n",
    ")\n",
    "automl.fit(X_train, y_train, dataset_name=\"latex_percision\")\n",
    "\n",
    "print(\"--- %s seconds ---\" % (time.time() - start_time))"
   ],
   "outputs": [
    {
     "output_type": "stream",
     "name": "stdout",
     "text": [
      "[WARNING] [2023-09-09 17:03:38,419:Client-AutoML(1):latex_percision] Capping the per_run_time_limit to 29.0 to have time for a least 2 models in each process.\n",
      "--- 59.249265909194946 seconds ---\n"
     ]
    }
   ],
   "metadata": {}
  },
  {
   "cell_type": "code",
   "execution_count": 6,
   "source": [
    "print(automl.leaderboard())"
   ],
   "outputs": [
    {
     "output_type": "stream",
     "name": "stdout",
     "text": [
      "          rank  ensemble_weight              type      cost  duration\n",
      "model_id                                                             \n",
      "29           1             0.50    ard_regression  0.581215  0.714862\n",
      "24           2             0.06       extra_trees  0.616360  1.422728\n",
      "36           3             0.20          adaboost  0.630310  0.767588\n",
      "16           4             0.18       extra_trees  0.800124  1.436451\n",
      "26           5             0.02  gaussian_process  0.889262  0.980988\n",
      "32           6             0.04     random_forest  0.916191  1.216803\n"
     ]
    }
   ],
   "metadata": {}
  },
  {
   "cell_type": "code",
   "execution_count": 7,
   "source": [
    "# with open('ccl_regression_model.pickle', 'rb') as file:\n",
    "#     automl = pickle.load(file)"
   ],
   "outputs": [],
   "metadata": {}
  },
  {
   "cell_type": "code",
   "execution_count": 11,
   "source": [
    "predictions = automl.predict(X_test)\n",
    "mse_value = mean_squared_error(y_test, predictions)\n",
    "print(mse_value)"
   ],
   "outputs": [
    {
     "output_type": "stream",
     "name": "stdout",
     "text": [
      "83.07264263475332\n"
     ]
    }
   ],
   "metadata": {}
  },
  {
   "cell_type": "code",
   "execution_count": 10,
   "source": [
    "with open('latex_model.pickle', 'wb') as file:\n",
    "    pickle.dump(automl, file, protocol=pickle.HIGHEST_PROTOCOL)"
   ],
   "outputs": [],
   "metadata": {}
  }
 ],
 "metadata": {
  "orig_nbformat": 4,
  "language_info": {
   "name": "python",
   "version": "3.8.8",
   "mimetype": "text/x-python",
   "codemirror_mode": {
    "name": "ipython",
    "version": 3
   },
   "pygments_lexer": "ipython3",
   "nbconvert_exporter": "python",
   "file_extension": ".py"
  },
  "kernelspec": {
   "name": "python3",
   "display_name": "Python 3.8.8 64-bit ('venv': venv)"
  },
  "interpreter": {
   "hash": "e0b691c112fdd75f9c6a4ccb3c9e83747e0c1503116a7e0a27ae3f9bcf5d4342"
  }
 },
 "nbformat": 4,
 "nbformat_minor": 2
}